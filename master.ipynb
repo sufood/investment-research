{
 "cells": [
  {
   "cell_type": "code",
   "execution_count": null,
   "metadata": {},
   "outputs": [],
   "source": [
    "# Investment Research Notebooks"
   ]
  },
  {
   "cell_type": "markdown",
   "metadata": {},
   "source": [
    "The Asset Management & Hedge Fund Industry is becoming increasingly dependent on __<span style=\"color:blue\">Data Analytics</span>__ and __<span style=\"color:blue\">Artificial Intelligence</span>__ to drive investment decisions.\n",
    "> ##### <span style=\"color:blue\">4x</span> \n",
    "> Number of alternative data analysts over the last five years. `*`\n",
    "> ##### <span style=\"color:blue\">77%</span> \n",
    "> Of buy-side firms are seeking to or are already using alternative data to inform investment process and strategies. `**`\n",
    "> ##### <span style=\"color:blue\">$901M</span>\n",
    "> Spend on alternative data sets by 2021 – a growth of 19.2% every year. `**`\n",
    "\n",
    "\n",
    "`*` Deloitte, “Alternative Data Adoption in Investing and Finance”, 2018\n",
    " \n",
    "`**` Aite Group, “Alternative Data in Active Asset Management: A New Source of Alpha?”, August 2018"
   ]
  },
  {
   "cell_type": "markdown",
   "metadata": {},
   "source": [
    "| ![Banking & Finance](images/dollar-banknote_1f4b5.png \"Banking & Finance\") | ![Rail](images/railway-track_1f6e4.png \"Rail\") | ![Rolling Stock](images/train_1f686.png \"Rolling Stock\") | ![Road](images/motorway_1f6e3.png \"Road\") | ![Trucking](images/articulated-lorry_1f69b.png \"Trucking\") | ![Ports](images/anchor_2693.png \"Ports\") | ![Shipping](images/ship_1f6a2.png \"Shipping\") |\n",
    "|:--:|:--:|:--:|:--:|:--:|:--:|:--:|\n",
    "| [*Banking & Finance*](notebooks/bfsi.ipynb) | [*Rail*](notebooks/rail.ipynb) | [*Rolling Stock*](notebooks/rolling.ipynb) | [*Roads*](notebooks/roads.ipynb) | [*Trucking*](notebooks/trucking.ipynb) | [*Ports*](notebooks/ports.ipynb) | [*Shipping*](notebooks/shipping.ipynb) | \n",
    "\n",
    "| ![Logistics](images/logistics.png \"Logistics\") | ![Airports](images/airplane_2708-fe0f.png \"Airports\") | ![Retail](images/shopping-bags_1f6cd.png \"Retail\") | ![Real Estate](images/office-building_1f3e2.png \"Real Estate\") | ![Data Centers](images/computer-disk_1f4bd.png \"Data centers\") | ![Telco](images/satellite-antenna_1f4e1.png \"Telco\") | ![Energy](images/electric-plug_1f50c.png \"Energy\") |\n",
    "|:--:|:--:|:--:|:--:|:--:|:--:|:--:|\n",
    "| [*Logistics*](notebooks/logistics.ipynb) | [*Aiports*](notebooks/airports.ipynb) | [*Retail*](notebooks/retail.ipynb) | [*Real Estate*](notebooks/realestate.ipynb) | [*Data Centers*](notebooks/datacenters.ipynb) | [*Telco*](notebooks/telco.ipynb) | [*Energy*](notebooks/energy.ipynb) |"
   ]
  },
  {
   "cell_type": "markdown",
   "metadata": {},
   "source": [
    "## Kaggle Integration\n",
    "To bring in Kaggle data, you will need to download a Kaggle API token. You can find the token on [your Kaggle account page](https://www.kaggle.com/me/account).\n",
    "* Create New API Token\n",
    "* Ensure kaggle.json is in the location ~/.kaggle/kaggle.json to use the API\n",
    "* To make sure your Kaggle API key is not readable by other users on the system run 'chmod 600 /home/jupyter/.kaggle/kaggle.json'"
   ]
  },
  {
   "cell_type": "markdown",
   "metadata": {},
   "source": [
    "https://github.com/Kaggle/kaggle-api"
   ]
  },
  {
   "cell_type": "code",
   "execution_count": 6,
   "metadata": {},
   "outputs": [
    {
     "name": "stdout",
     "output_type": "stream",
     "text": [
      "ref                                            deadline             category            reward  teamCount  userHasEntered  \n",
      "---------------------------------------------  -------------------  ---------------  ---------  ---------  --------------  \n",
      "contradictory-my-dear-watson                   2030-07-01 23:59:00  Getting Started     Prizes         80           False  \n",
      "gan-getting-started                            2030-07-01 23:59:00  Getting Started     Prizes        171           False  \n",
      "tpu-getting-started                            2030-06-03 23:59:00  Getting Started  Knowledge        257           False  \n",
      "digit-recognizer                               2030-01-01 00:00:00  Getting Started  Knowledge       2287           False  \n",
      "titanic                                        2030-01-01 00:00:00  Getting Started  Knowledge      17171           False  \n",
      "house-prices-advanced-regression-techniques    2030-01-01 00:00:00  Getting Started  Knowledge       4446           False  \n",
      "connectx                                       2030-01-01 00:00:00  Getting Started  Knowledge        410           False  \n",
      "nlp-getting-started                            2030-01-01 00:00:00  Getting Started  Knowledge       1207           False  \n",
      "competitive-data-science-predict-future-sales  2022-12-31 23:59:00  Playground           Kudos       9643           False  \n",
      "jane-street-market-prediction                  2021-02-22 23:59:00  Featured          $100,000        264           False  \n",
      "cassava-leaf-disease-classification            2021-02-18 23:59:00  Research           $18,000        523           False  \n",
      "rfcx-species-audio-detection                   2021-02-17 23:59:00  Research           $15,000        191           False  \n",
      "rock-paper-scissors                            2021-02-01 23:59:00  Playground          Prizes        878           False  \n",
      "hubmap-kidney-segmentation                     2021-02-01 23:59:00  Research           $60,000        111           False  \n",
      "riiid-test-answer-prediction                   2021-01-07 23:59:00  Featured          $100,000       2062           False  \n",
      "kaggle-survey-2020                             2021-01-06 23:59:00  Analytics          $30,000          0           False  \n",
      "nfl-big-data-bowl-2021                         2021-01-05 23:59:00  Analytics         $100,000          0           False  \n",
      "nfl-impact-detection                           2021-01-04 23:59:00  Featured           $75,000         17           False  \n",
      "halite-iv-playground-edition                   2020-12-31 23:59:00  Playground       Knowledge         52           False  \n",
      "predict-volcanic-eruptions-ingv-oe             2020-12-28 23:59:00  Playground            Swag        319           False  \n"
     ]
    }
   ],
   "source": [
    "!kaggle competitions list"
   ]
  },
  {
   "cell_type": "code",
   "execution_count": 18,
   "metadata": {},
   "outputs": [
    {
     "name": "stdout",
     "output_type": "stream",
     "text": [
      "ref                                                             title                                                size  lastUpdated          downloadCount  voteCount  usabilityRating  \n",
      "--------------------------------------------------------------  --------------------------------------------------  -----  -------------------  -------------  ---------  ---------------  \n",
      "himanshupoddar/zomato-bangalore-restaurants                     Zomato Bangalore Restaurants                         89MB  2019-03-31 09:48:43          26144        886  1.0              \n",
      "zillow/zecon                                                    Zillow Economics Data                               511MB  2018-01-24 23:53:58          14540        535  0.7058824        \n",
      "anthonypino/melbourne-housing-market                            Melbourne Housing Market                              2MB  2018-10-14 23:33:37          27191        488  0.7352941        \n",
      "dansbecker/melbourne-housing-snapshot                           Melbourne Housing Snapshot                          451KB  2018-06-05 12:52:24          48120        426  0.7058824        \n",
      "camnugent/california-housing-prices                             California Housing Prices                           400KB  2017-11-24 03:14:59          26601        351  0.85294116       \n",
      "retailrocket/ecommerce-dataset                                  Retailrocket recommender system dataset             291MB  2017-03-24 07:45:27          14108        345  0.88235295       \n",
      "goldenoakresearch/us-acs-mortgage-equity-loans-rent-statistics  Insightful & Vast USA Statistics                     10MB  2018-05-19 19:35:52           6431        274  0.85294116       \n",
      "rtatman/lego-database                                           LEGO Database                                         3MB  2017-07-14 18:00:24          10813        254  0.88235295       \n",
      "new-york-city/nyc-property-sales                                NYC Property Sales                                    2MB  2017-09-22 19:43:30          13686        245  0.8235294        \n",
      "mkechinov/ecommerce-behavior-data-from-multi-category-store     eCommerce behavior data from multi category store     4GB  2019-12-09 20:43:39           5882        240  1.0              \n",
      "rubenssjr/brasilian-houses-to-rent                              brazilian_houses_to_rent                            282KB  2020-03-25 22:51:17           6297        215  1.0              \n",
      "goldenoakresearch/us-household-income-stats-geo-locations       US Household Income Statistics                        2MB  2018-04-16 18:20:57           8573        188  0.8235294        \n",
      "crisparada/brazilian-cities                                     Brazilian Cities                                    943KB  2019-07-11 22:06:59           5446        174  1.0              \n",
      "shree1992/housedata                                             House price prediction                              432KB  2018-08-26 07:56:22          11535        169  0.64705884       \n",
      "justinas/housing-in-london                                      Housing in London                                   169KB  2020-04-29 18:43:38           3956        149  1.0              \n",
      "cnic92/200-financial-indicators-of-us-stocks-20142018           200+ Financial Indicators of US stocks (2014-2018)   15MB  2020-01-18 17:16:22           3781        143  0.9705882        \n",
      "aparnashastry/building-permit-applications-data                 San Francisco Building Permits                       18MB  2018-03-13 22:55:40           9877        131  0.8235294        \n",
      "stephenofarrell/cost-of-living                                  Cost of Living                                       23KB  2020-01-14 22:41:47           3673        127  0.9411765        \n",
      "quantbruce/real-estate-price-prediction                         Real estate price prediction                          7KB  2018-12-08 09:13:48           9700        126  0.47058824       \n",
      "ruiqurm/lianjia                                                 Housing price in Beijing                             12MB  2018-07-07 07:12:05           5408        116  0.7647059        \n"
     ]
    }
   ],
   "source": [
    "!kaggle datasets list -s \"real estate\" --sort-by votes"
   ]
  },
  {
   "cell_type": "code",
   "execution_count": null,
   "metadata": {},
   "outputs": [],
   "source": []
  }
 ],
 "metadata": {
  "environment": {
   "name": "tf2-gpu.2-1.m55",
   "type": "gcloud",
   "uri": "gcr.io/deeplearning-platform-release/tf2-gpu.2-1:m55"
  },
  "kernelspec": {
   "display_name": "Python 3",
   "language": "python",
   "name": "python3"
  },
  "language_info": {
   "codemirror_mode": {
    "name": "ipython",
    "version": 3
   },
   "file_extension": ".py",
   "mimetype": "text/x-python",
   "name": "python",
   "nbconvert_exporter": "python",
   "pygments_lexer": "ipython3",
   "version": "3.7.8"
  }
 },
 "nbformat": 4,
 "nbformat_minor": 4
}
