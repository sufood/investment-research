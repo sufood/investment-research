{
 "cells": [
  {
   "cell_type": "markdown",
   "metadata": {},
   "source": [
    "| ![Home](../images/houses_1f3d8-fe0f.png \"Home\") | ![Rail](../images/railway-track_1f6e4.png \"Rail\") |\n",
    "|:--:|:--:|\n",
    "| [*Home*](../master.ipynb) | [*Rail*](./rail.ipynb) |"
   ]
  },
  {
   "cell_type": "code",
   "execution_count": 2,
   "metadata": {},
   "outputs": [
    {
     "name": "stdout",
     "output_type": "stream",
     "text": [
      "ref                                                                title                                                size  lastUpdated          downloadCount  voteCount  usabilityRating  \n",
      "-----------------------------------------------------------------  --------------------------------------------------  -----  -------------------  -------------  ---------  ---------------  \n",
      "harsh16/indian-railways-time-table-for-trains-available            Indian Railways Time Table for trains available       1MB  2019-05-12 06:42:30            246          5  0.5882353        \n",
      "pronaypksaha/data-analysis-and-visualization-of-indian-railways    Data Analysis and Visualization of Indian Railways    3MB  2018-07-14 08:33:05            474         10  0.29411766       \n",
      "oscarvanhees/finding-railway-fasteners-in-image-data-prorail       Finding railway fasteners in image data - ProRail    16MB  2020-07-03 12:03:33             28          7  0.7058824        \n",
      "mathurinache/list-of-railway-stations                              List_of_railway_stations                             197B  2020-07-17 16:08:48             18          4  0.625            \n",
      "noureensultana/data-analysis-and-visualization-of-indian-railways  Data Analysis and Visualization of Indian Railways    3MB  2018-07-14 08:35:24             70          2  0.23529412       \n",
      "deedydas/cbse-schools-data                                         CBSE Schools Data                                     3MB  2018-03-26 09:37:06            912         27  0.7058824        \n",
      "paulakash/data-analysis-and-visualization-of-indian-railways       Data analysis and visualization of Indian Railways    3MB  2018-07-14 08:39:26             49          1  0.23529412       \n",
      "thegurusteam/spanish-high-speed-rail-system-ticket-pricing         Spanish Rail Tickets Pricing - Renfe                557MB  2020-10-07 16:04:36           6208        209  0.9411765        \n",
      "tanimasarkhel/data-analysis-and-visualization-of-indian-railways   DATA ANALYSIS AND VISUALIZATION OF INDIAN RAILWAYS    3MB  2018-07-14 07:59:00             44          0  0.23529412       \n",
      "oscarvanhees/insulation-joint-training-set-prorail                 Image data of insulation joints - ProRail             2GB  2019-10-30 12:39:01            186         25  0.7647059        \n",
      "citylines/city-lines                                               Transit systems of world                              3MB  2019-03-25 16:53:05           4423        130  0.7647059        \n",
      "pramodpandey/railway-waitinglist-dataset                           Railway Waitinglist Dataset                         365KB  2020-02-03 06:24:23             32          0  0.23529412       \n",
      "dheerajmpai/hospitals-and-beds-in-india                            Hospitals and beds in India (Statewise)               5KB  2020-03-27 14:05:50           3611         98  0.9411765        \n",
      "vidyapb/suicides-in-india-during-2015                              Suicides in India during 2015                        30KB  2020-08-22 16:16:12             80          9  0.9705882        \n",
      "headsortails/train-stations-in-europe                              Train Stations in Europe                            936KB  2020-10-23 01:15:43             81         19  1.0              \n",
      "oscarvanhees/image-data-of-spark-erosion-prorail                   Image data of spark erosion - ProRail                12MB  2020-11-05 13:35:18             10          2  0.75             \n",
      "team-ai/japaneseenglish-bilingual-corpus                           Japanese-English Bilingual Corpus                   159MB  2017-09-15 15:30:53           1111         52  0.7058824        \n",
      "alketcecaj/train-delays-in-italy-bolognamilan                      Train delays in Italy Bologna-Milan                 356KB  2020-03-28 13:56:53             36          1  0.29411766       \n",
      "blitzr/gfp2017                                                     2017 Military Strength Ranking                       27KB  2017-07-14 09:23:23           1554         29  0.85294116       \n",
      "salmanfaroz/coronavirus-india-tamilnadu-district-wise-dataset      Corona-virus India Tamilnadu district wise dataset    7KB  2020-07-30 05:25:37             24         12  0.88235295       \n"
     ]
    }
   ],
   "source": [
    "!kaggle datasets list -s indian-railway"
   ]
  },
  {
   "cell_type": "code",
   "execution_count": 5,
   "metadata": {},
   "outputs": [
    {
     "name": "stdout",
     "output_type": "stream",
     "text": [
      "Downloading data-analysis-and-visualization-of-indian-railways.zip to rail-data\n",
      "  0%|                                               | 0.00/2.61M [00:00<?, ?B/s]\n",
      "100%|███████████████████████████████████████| 2.61M/2.61M [00:00<00:00, 178MB/s]\n"
     ]
    }
   ],
   "source": [
    "!kaggle datasets download pronaypksaha/data-analysis-and-visualization-of-indian-railways -p rail-data"
   ]
  },
  {
   "cell_type": "code",
   "execution_count": 4,
   "metadata": {},
   "outputs": [],
   "source": [
    "import zipfile\n",
    "with zipfile.ZipFile(\"rail-data/data-analysis-and-visualization-of-indian-railways.zip\",\"r\") as zip_ref:\n",
    "    zip_ref.extractall(\"rail-data\")"
   ]
  },
  {
   "cell_type": "code",
   "execution_count": 6,
   "metadata": {},
   "outputs": [
    {
     "name": "stderr",
     "output_type": "stream",
     "text": [
      "/opt/conda/lib/python3.7/site-packages/IPython/core/interactiveshell.py:3146: DtypeWarning: Columns (0,2,7) have mixed types.Specify dtype option on import or set low_memory=False.\n",
      "  interactivity=interactivity, compiler=compiler, result=result)\n"
     ]
    },
    {
     "data": {
      "text/html": [
       "<div>\n",
       "<style scoped>\n",
       "    .dataframe tbody tr th:only-of-type {\n",
       "        vertical-align: middle;\n",
       "    }\n",
       "\n",
       "    .dataframe tbody tr th {\n",
       "        vertical-align: top;\n",
       "    }\n",
       "\n",
       "    .dataframe thead th {\n",
       "        text-align: right;\n",
       "    }\n",
       "</style>\n",
       "<table border=\"1\" class=\"dataframe\">\n",
       "  <thead>\n",
       "    <tr style=\"text-align: right;\">\n",
       "      <th></th>\n",
       "      <th>Train No</th>\n",
       "      <th>Train Name</th>\n",
       "      <th>SEQ</th>\n",
       "      <th>Station Code</th>\n",
       "      <th>Station Name</th>\n",
       "      <th>Arrival time</th>\n",
       "      <th>Departure Time</th>\n",
       "      <th>Distance</th>\n",
       "      <th>Source Station</th>\n",
       "      <th>Source Station Name</th>\n",
       "      <th>Destination Station</th>\n",
       "      <th>Destination Station Name</th>\n",
       "    </tr>\n",
       "  </thead>\n",
       "  <tbody>\n",
       "    <tr>\n",
       "      <th>0</th>\n",
       "      <td>107</td>\n",
       "      <td>SWV-MAO-VLNK</td>\n",
       "      <td>1</td>\n",
       "      <td>SWV</td>\n",
       "      <td>SAWANTWADI R</td>\n",
       "      <td>00:00:00</td>\n",
       "      <td>10:25:00</td>\n",
       "      <td>0</td>\n",
       "      <td>SWV</td>\n",
       "      <td>SAWANTWADI ROAD</td>\n",
       "      <td>MAO</td>\n",
       "      <td>MADGOAN JN.</td>\n",
       "    </tr>\n",
       "    <tr>\n",
       "      <th>1</th>\n",
       "      <td>107</td>\n",
       "      <td>SWV-MAO-VLNK</td>\n",
       "      <td>2</td>\n",
       "      <td>THVM</td>\n",
       "      <td>THIVIM</td>\n",
       "      <td>11:06:00</td>\n",
       "      <td>11:08:00</td>\n",
       "      <td>32</td>\n",
       "      <td>SWV</td>\n",
       "      <td>SAWANTWADI ROAD</td>\n",
       "      <td>MAO</td>\n",
       "      <td>MADGOAN JN.</td>\n",
       "    </tr>\n",
       "    <tr>\n",
       "      <th>2</th>\n",
       "      <td>107</td>\n",
       "      <td>SWV-MAO-VLNK</td>\n",
       "      <td>3</td>\n",
       "      <td>KRMI</td>\n",
       "      <td>KARMALI</td>\n",
       "      <td>11:28:00</td>\n",
       "      <td>11:30:00</td>\n",
       "      <td>49</td>\n",
       "      <td>SWV</td>\n",
       "      <td>SAWANTWADI ROAD</td>\n",
       "      <td>MAO</td>\n",
       "      <td>MADGOAN JN.</td>\n",
       "    </tr>\n",
       "    <tr>\n",
       "      <th>3</th>\n",
       "      <td>107</td>\n",
       "      <td>SWV-MAO-VLNK</td>\n",
       "      <td>4</td>\n",
       "      <td>MAO</td>\n",
       "      <td>MADGOAN JN.</td>\n",
       "      <td>12:10:00</td>\n",
       "      <td>00:00:00</td>\n",
       "      <td>78</td>\n",
       "      <td>SWV</td>\n",
       "      <td>SAWANTWADI ROAD</td>\n",
       "      <td>MAO</td>\n",
       "      <td>MADGOAN JN.</td>\n",
       "    </tr>\n",
       "    <tr>\n",
       "      <th>4</th>\n",
       "      <td>108</td>\n",
       "      <td>VLNK-MAO-SWV</td>\n",
       "      <td>1</td>\n",
       "      <td>MAO</td>\n",
       "      <td>MADGOAN JN.</td>\n",
       "      <td>00:00:00</td>\n",
       "      <td>20:30:00</td>\n",
       "      <td>0</td>\n",
       "      <td>MAO</td>\n",
       "      <td>MADGOAN JN.</td>\n",
       "      <td>SWV</td>\n",
       "      <td>SAWANTWADI ROAD</td>\n",
       "    </tr>\n",
       "  </tbody>\n",
       "</table>\n",
       "</div>"
      ],
      "text/plain": [
       "  Train No    Train Name SEQ Station Code  Station Name Arrival time  \\\n",
       "0      107  SWV-MAO-VLNK   1          SWV  SAWANTWADI R     00:00:00   \n",
       "1      107  SWV-MAO-VLNK   2         THVM        THIVIM     11:06:00   \n",
       "2      107  SWV-MAO-VLNK   3         KRMI       KARMALI     11:28:00   \n",
       "3      107  SWV-MAO-VLNK   4          MAO   MADGOAN JN.     12:10:00   \n",
       "4      108  VLNK-MAO-SWV   1          MAO   MADGOAN JN.     00:00:00   \n",
       "\n",
       "  Departure Time Distance Source Station Source Station Name  \\\n",
       "0       10:25:00        0            SWV     SAWANTWADI ROAD   \n",
       "1       11:08:00       32            SWV     SAWANTWADI ROAD   \n",
       "2       11:30:00       49            SWV     SAWANTWADI ROAD   \n",
       "3       00:00:00       78            SWV     SAWANTWADI ROAD   \n",
       "4       20:30:00        0            MAO         MADGOAN JN.   \n",
       "\n",
       "  Destination Station Destination Station Name  \n",
       "0                 MAO              MADGOAN JN.  \n",
       "1                 MAO              MADGOAN JN.  \n",
       "2                 MAO              MADGOAN JN.  \n",
       "3                 MAO              MADGOAN JN.  \n",
       "4                 SWV          SAWANTWADI ROAD  "
      ]
     },
     "execution_count": 6,
     "metadata": {},
     "output_type": "execute_result"
    }
   ],
   "source": [
    "import pandas as pd \n",
    "data = pd.read_csv(\"rail-data/Indian_railway1.csv\") \n",
    "data.head()"
   ]
  },
  {
   "cell_type": "code",
   "execution_count": null,
   "metadata": {},
   "outputs": [],
   "source": []
  }
 ],
 "metadata": {
  "environment": {
   "name": "tf2-gpu.2-1.m55",
   "type": "gcloud",
   "uri": "gcr.io/deeplearning-platform-release/tf2-gpu.2-1:m55"
  },
  "kernelspec": {
   "display_name": "Python 3",
   "language": "python",
   "name": "python3"
  },
  "language_info": {
   "codemirror_mode": {
    "name": "ipython",
    "version": 3
   },
   "file_extension": ".py",
   "mimetype": "text/x-python",
   "name": "python",
   "nbconvert_exporter": "python",
   "pygments_lexer": "ipython3",
   "version": "3.7.8"
  }
 },
 "nbformat": 4,
 "nbformat_minor": 4
}
