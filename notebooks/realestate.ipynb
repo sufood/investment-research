{
 "cells": [
  {
   "cell_type": "markdown",
   "metadata": {},
   "source": [
    "| ![Home](../images/houses_1f3d8-fe0f.png \"Home\") | ![Real Estate](../images/office-building_1f3e2.png \"Real Estate\") |\n",
    "|:--:|:--:|\n",
    "| [*Home*](../master.ipynb) | [*Real Estate*](./ealestate.ipynb) |"
   ]
  },
  {
   "cell_type": "code",
   "execution_count": 1,
   "metadata": {},
   "outputs": [
    {
     "name": "stdout",
     "output_type": "stream",
     "text": [
      "ref                                                             title                                                size  lastUpdated          downloadCount  voteCount  usabilityRating  \n",
      "--------------------------------------------------------------  --------------------------------------------------  -----  -------------------  -------------  ---------  ---------------  \n",
      "himanshupoddar/zomato-bangalore-restaurants                     Zomato Bangalore Restaurants                         89MB  2019-03-31 09:48:43          26145        886  1.0              \n",
      "zillow/zecon                                                    Zillow Economics Data                               511MB  2018-01-24 23:53:58          14542        535  0.7058824        \n",
      "anthonypino/melbourne-housing-market                            Melbourne Housing Market                              2MB  2018-10-14 23:33:37          27197        488  0.7352941        \n",
      "dansbecker/melbourne-housing-snapshot                           Melbourne Housing Snapshot                          451KB  2018-06-05 12:52:24          48126        426  0.7058824        \n",
      "camnugent/california-housing-prices                             California Housing Prices                           400KB  2017-11-24 03:14:59          26613        351  0.85294116       \n",
      "retailrocket/ecommerce-dataset                                  Retailrocket recommender system dataset             291MB  2017-03-24 07:45:27          14110        345  0.88235295       \n",
      "goldenoakresearch/us-acs-mortgage-equity-loans-rent-statistics  Insightful & Vast USA Statistics                     10MB  2018-05-19 19:35:52           6432        274  0.85294116       \n",
      "rtatman/lego-database                                           LEGO Database                                         3MB  2017-07-14 18:00:24          10823        254  0.88235295       \n",
      "new-york-city/nyc-property-sales                                NYC Property Sales                                    2MB  2017-09-22 19:43:30          13690        246  0.8235294        \n",
      "mkechinov/ecommerce-behavior-data-from-multi-category-store     eCommerce behavior data from multi category store     4GB  2019-12-09 20:43:39           5887        240  1.0              \n",
      "rubenssjr/brasilian-houses-to-rent                              brazilian_houses_to_rent                            282KB  2020-03-25 22:51:17           6300        215  1.0              \n",
      "goldenoakresearch/us-household-income-stats-geo-locations       US Household Income Statistics                        2MB  2018-04-16 18:20:57           8575        188  0.8235294        \n",
      "crisparada/brazilian-cities                                     Brazilian Cities                                    943KB  2019-07-11 22:06:59           5446        174  1.0              \n",
      "shree1992/housedata                                             House price prediction                              432KB  2018-08-26 07:56:22          11539        169  0.64705884       \n",
      "justinas/housing-in-london                                      Housing in London                                   169KB  2020-04-29 18:43:38           3959        149  1.0              \n",
      "cnic92/200-financial-indicators-of-us-stocks-20142018           200+ Financial Indicators of US stocks (2014-2018)   15MB  2020-01-18 17:16:22           3783        143  0.9705882        \n",
      "aparnashastry/building-permit-applications-data                 San Francisco Building Permits                       18MB  2018-03-13 22:55:40           9877        131  0.8235294        \n",
      "stephenofarrell/cost-of-living                                  Cost of Living                                       23KB  2020-01-14 22:41:47           3673        127  0.9411765        \n",
      "quantbruce/real-estate-price-prediction                         Real estate price prediction                          7KB  2018-12-08 09:13:48           9706        126  0.47058824       \n",
      "ruiqurm/lianjia                                                 Housing price in Beijing                             12MB  2018-07-07 07:12:05           5411        116  0.7647059        \n"
     ]
    }
   ],
   "source": [
    "!kaggle datasets list -s \"real estate\" --sort-by votes"
   ]
  },
  {
   "cell_type": "code",
   "execution_count": null,
   "metadata": {},
   "outputs": [],
   "source": []
  }
 ],
 "metadata": {
  "environment": {
   "name": "tf2-gpu.2-1.m55",
   "type": "gcloud",
   "uri": "gcr.io/deeplearning-platform-release/tf2-gpu.2-1:m55"
  },
  "kernelspec": {
   "display_name": "Python 3",
   "language": "python",
   "name": "python3"
  },
  "language_info": {
   "codemirror_mode": {
    "name": "ipython",
    "version": 3
   },
   "file_extension": ".py",
   "mimetype": "text/x-python",
   "name": "python",
   "nbconvert_exporter": "python",
   "pygments_lexer": "ipython3",
   "version": "3.7.8"
  }
 },
 "nbformat": 4,
 "nbformat_minor": 4
}
